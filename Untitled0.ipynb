{
  "nbformat": 4,
  "nbformat_minor": 0,
  "metadata": {
    "colab": {
      "name": "Untitled0.ipynb",
      "provenance": [],
      "collapsed_sections": []
    },
    "kernelspec": {
      "name": "python3",
      "display_name": "Python 3"
    },
    "language_info": {
      "name": "python"
    }
  },
  "cells": [
    {
      "cell_type": "code",
      "metadata": {
        "id": "lSRTCRkFAIQE"
      },
      "source": [
        "import numpy as np\n",
        "import pandas as pd\n",
        "from pandas import Series,DataFrame"
      ],
      "execution_count": null,
      "outputs": []
    },
    {
      "cell_type": "code",
      "metadata": {
        "id": "9b85pFxxNx5U"
      },
      "source": [
        "url = 'https://raw.githubusercontent.com/Somkidf/Python/master/sales.csv'\n",
        "dframe = pd.read_csv(url)"
      ],
      "execution_count": null,
      "outputs": []
    },
    {
      "cell_type": "code",
      "metadata": {
        "colab": {
          "base_uri": "https://localhost:8080/",
          "height": 424
        },
        "id": "bh3nWG7uQqbA",
        "outputId": "5a225718-de6d-41f8-bbe9-ebb285a0ad47"
      },
      "source": [
        "dframe"
      ],
      "execution_count": null,
      "outputs": [
        {
          "output_type": "execute_result",
          "data": {
            "text/html": [
              "<div>\n",
              "<style scoped>\n",
              "    .dataframe tbody tr th:only-of-type {\n",
              "        vertical-align: middle;\n",
              "    }\n",
              "\n",
              "    .dataframe tbody tr th {\n",
              "        vertical-align: top;\n",
              "    }\n",
              "\n",
              "    .dataframe thead th {\n",
              "        text-align: right;\n",
              "    }\n",
              "</style>\n",
              "<table border=\"1\" class=\"dataframe\">\n",
              "  <thead>\n",
              "    <tr style=\"text-align: right;\">\n",
              "      <th></th>\n",
              "      <th>sold2p</th>\n",
              "      <th>billdate</th>\n",
              "      <th>material</th>\n",
              "      <th>prodallo</th>\n",
              "      <th>qty</th>\n",
              "      <th>netvalue</th>\n",
              "      <th>cost</th>\n",
              "    </tr>\n",
              "  </thead>\n",
              "  <tbody>\n",
              "    <tr>\n",
              "      <th>0</th>\n",
              "      <td>530000</td>\n",
              "      <td>26/1/2011</td>\n",
              "      <td>400009497</td>\n",
              "      <td>ZT</td>\n",
              "      <td>29326.38</td>\n",
              "      <td>20513.94</td>\n",
              "      <td>8812.44</td>\n",
              "    </tr>\n",
              "    <tr>\n",
              "      <th>1</th>\n",
              "      <td>530000</td>\n",
              "      <td>28/2/2011</td>\n",
              "      <td>400009497</td>\n",
              "      <td>ZT</td>\n",
              "      <td>27927.29</td>\n",
              "      <td>19535.27</td>\n",
              "      <td>8392.02</td>\n",
              "    </tr>\n",
              "    <tr>\n",
              "      <th>2</th>\n",
              "      <td>530000</td>\n",
              "      <td>1/2/2011</td>\n",
              "      <td>400009497</td>\n",
              "      <td>ZT</td>\n",
              "      <td>71771.50</td>\n",
              "      <td>50204.50</td>\n",
              "      <td>21567.00</td>\n",
              "    </tr>\n",
              "    <tr>\n",
              "      <th>3</th>\n",
              "      <td>530000</td>\n",
              "      <td>16/5/2011</td>\n",
              "      <td>400009497</td>\n",
              "      <td>ZT</td>\n",
              "      <td>270133.38</td>\n",
              "      <td>188959.56</td>\n",
              "      <td>81173.82</td>\n",
              "    </tr>\n",
              "    <tr>\n",
              "      <th>4</th>\n",
              "      <td>530000</td>\n",
              "      <td>6/9/2011</td>\n",
              "      <td>400009497</td>\n",
              "      <td>ZT</td>\n",
              "      <td>182099.73</td>\n",
              "      <td>127379.62</td>\n",
              "      <td>54720.12</td>\n",
              "    </tr>\n",
              "    <tr>\n",
              "      <th>...</th>\n",
              "      <td>...</td>\n",
              "      <td>...</td>\n",
              "      <td>...</td>\n",
              "      <td>...</td>\n",
              "      <td>...</td>\n",
              "      <td>...</td>\n",
              "      <td>...</td>\n",
              "    </tr>\n",
              "    <tr>\n",
              "      <th>98871</th>\n",
              "      <td>610678</td>\n",
              "      <td>13/6/2011</td>\n",
              "      <td>740004263</td>\n",
              "      <td>ZZZ</td>\n",
              "      <td>29250.00</td>\n",
              "      <td>25182.37</td>\n",
              "      <td>4067.63</td>\n",
              "    </tr>\n",
              "    <tr>\n",
              "      <th>98872</th>\n",
              "      <td>610678</td>\n",
              "      <td>13/6/2011</td>\n",
              "      <td>740004264</td>\n",
              "      <td>ZZZ</td>\n",
              "      <td>750.00</td>\n",
              "      <td>645.70</td>\n",
              "      <td>104.30</td>\n",
              "    </tr>\n",
              "    <tr>\n",
              "      <th>98873</th>\n",
              "      <td>610678</td>\n",
              "      <td>13/6/2011</td>\n",
              "      <td>740004265</td>\n",
              "      <td>ZZZ</td>\n",
              "      <td>1500.00</td>\n",
              "      <td>1291.41</td>\n",
              "      <td>208.59</td>\n",
              "    </tr>\n",
              "    <tr>\n",
              "      <th>98874</th>\n",
              "      <td>610678</td>\n",
              "      <td>13/6/2011</td>\n",
              "      <td>740004266</td>\n",
              "      <td>ZZZ</td>\n",
              "      <td>9000.00</td>\n",
              "      <td>7748.43</td>\n",
              "      <td>1251.57</td>\n",
              "    </tr>\n",
              "    <tr>\n",
              "      <th>98875</th>\n",
              "      <td>610678</td>\n",
              "      <td>13/6/2011</td>\n",
              "      <td>740004269</td>\n",
              "      <td>ZZZ</td>\n",
              "      <td>750.00</td>\n",
              "      <td>645.70</td>\n",
              "      <td>104.30</td>\n",
              "    </tr>\n",
              "  </tbody>\n",
              "</table>\n",
              "<p>98876 rows × 7 columns</p>\n",
              "</div>"
            ],
            "text/plain": [
              "       sold2p   billdate   material prodallo        qty   netvalue      cost\n",
              "0      530000  26/1/2011  400009497       ZT   29326.38   20513.94   8812.44\n",
              "1      530000  28/2/2011  400009497       ZT   27927.29   19535.27   8392.02\n",
              "2      530000   1/2/2011  400009497       ZT   71771.50   50204.50  21567.00\n",
              "3      530000  16/5/2011  400009497       ZT  270133.38  188959.56  81173.82\n",
              "4      530000   6/9/2011  400009497       ZT  182099.73  127379.62  54720.12\n",
              "...       ...        ...        ...      ...        ...        ...       ...\n",
              "98871  610678  13/6/2011  740004263      ZZZ   29250.00   25182.37   4067.63\n",
              "98872  610678  13/6/2011  740004264      ZZZ     750.00     645.70    104.30\n",
              "98873  610678  13/6/2011  740004265      ZZZ    1500.00    1291.41    208.59\n",
              "98874  610678  13/6/2011  740004266      ZZZ    9000.00    7748.43   1251.57\n",
              "98875  610678  13/6/2011  740004269      ZZZ     750.00     645.70    104.30\n",
              "\n",
              "[98876 rows x 7 columns]"
            ]
          },
          "metadata": {
            "tags": []
          },
          "execution_count": 12
        }
      ]
    },
    {
      "cell_type": "code",
      "metadata": {
        "id": "yqDmz0_NtKZS",
        "colab": {
          "base_uri": "https://localhost:8080/"
        },
        "outputId": "6e2de11b-2684-461d-b935-07f72f77cd62"
      },
      "source": [
        "print(\"Hello\")"
      ],
      "execution_count": 1,
      "outputs": [
        {
          "output_type": "stream",
          "text": [
            "Hello\n"
          ],
          "name": "stdout"
        }
      ]
    },
    {
      "cell_type": "code",
      "metadata": {
        "id": "72B6dgwIkZeA",
        "outputId": "8cf61963-b354-4b0d-ffce-60ef5a508e7d",
        "colab": {
          "base_uri": "https://localhost:8080/"
        }
      },
      "source": [
        "print(\"Hi SJI\")"
      ],
      "execution_count": 2,
      "outputs": [
        {
          "output_type": "stream",
          "text": [
            "Hi SJI\n"
          ],
          "name": "stdout"
        }
      ]
    }
  ]
}